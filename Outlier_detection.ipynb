{
  "nbformat": 4,
  "nbformat_minor": 0,
  "metadata": {
    "colab": {
      "name": "Outlier_detection.ipynb",
      "provenance": [],
      "authorship_tag": "ABX9TyMbUfZKW4p5s0RpCy/x4Iuw",
      "include_colab_link": true
    },
    "kernelspec": {
      "name": "python3",
      "display_name": "Python 3"
    },
    "language_info": {
      "name": "python"
    }
  },
  "cells": [
    {
      "cell_type": "markdown",
      "metadata": {
        "id": "view-in-github",
        "colab_type": "text"
      },
      "source": [
        "<a href=\"https://colab.research.google.com/github/kunal24bit/Outlier-detection-and-its-treatment/blob/main/Outlier_detection.ipynb\" target=\"_parent\"><img src=\"https://colab.research.google.com/assets/colab-badge.svg\" alt=\"Open In Colab\"/></a>"
      ]
    },
    {
      "cell_type": "markdown",
      "metadata": {
        "id": "oq3zIqvv-aIf"
      },
      "source": [
        "**What is an outlier?**\n",
        "\n",
        "An outlier is a datapoint in a data set that distant from all other observations.\n",
        "\n",
        "**How to find outlier in a dataset?**\n",
        "\n",
        "There are so many ways to find the outlier in the given dataset:\n",
        "\n",
        "1. Using Boxplot\n",
        "2. Using Z -Score\n",
        "3. Using IQR(Inter quartile range)\n",
        "4. Using scatter plots\n",
        "\n",
        "**Criteria to detect outlier**\n",
        "\n",
        "1. if using box plot then the data point which falls below the (Q1-1.5*IQR) or the data point which falls above the (Q3+1.5*IQR) are outliers.\n",
        "\n",
        "2. "
      ]
    },
    {
      "cell_type": "code",
      "metadata": {
        "id": "s93weDcj-vxd"
      },
      "source": [
        "import numpy as np\n",
        "\n",
        "import pandas as pd"
      ],
      "execution_count": 44,
      "outputs": []
    },
    {
      "cell_type": "code",
      "metadata": {
        "id": "x67Gs0ELNt7-"
      },
      "source": [
        "df  = pd.read_csv(\"Outliers.csv\")"
      ],
      "execution_count": 45,
      "outputs": []
    },
    {
      "cell_type": "code",
      "metadata": {
        "colab": {
          "base_uri": "https://localhost:8080/",
          "height": 514
        },
        "id": "pjktpYELN7ck",
        "outputId": "37ed4f54-f5e3-41f1-84a5-1ec47804a290"
      },
      "source": [
        "df"
      ],
      "execution_count": 46,
      "outputs": [
        {
          "output_type": "execute_result",
          "data": {
            "text/html": [
              "<div>\n",
              "<style scoped>\n",
              "    .dataframe tbody tr th:only-of-type {\n",
              "        vertical-align: middle;\n",
              "    }\n",
              "\n",
              "    .dataframe tbody tr th {\n",
              "        vertical-align: top;\n",
              "    }\n",
              "\n",
              "    .dataframe thead th {\n",
              "        text-align: right;\n",
              "    }\n",
              "</style>\n",
              "<table border=\"1\" class=\"dataframe\">\n",
              "  <thead>\n",
              "    <tr style=\"text-align: right;\">\n",
              "      <th></th>\n",
              "      <th>Height M</th>\n",
              "      <th>Z-score</th>\n",
              "    </tr>\n",
              "  </thead>\n",
              "  <tbody>\n",
              "    <tr>\n",
              "      <th>0</th>\n",
              "      <td>1.589492</td>\n",
              "      <td>-0.346033</td>\n",
              "    </tr>\n",
              "    <tr>\n",
              "      <th>1</th>\n",
              "      <td>1.650782</td>\n",
              "      <td>-0.319753</td>\n",
              "    </tr>\n",
              "    <tr>\n",
              "      <th>2</th>\n",
              "      <td>1.713147</td>\n",
              "      <td>-0.293012</td>\n",
              "    </tr>\n",
              "    <tr>\n",
              "      <th>3</th>\n",
              "      <td>1.713566</td>\n",
              "      <td>-0.292832</td>\n",
              "    </tr>\n",
              "    <tr>\n",
              "      <th>4</th>\n",
              "      <td>1.721237</td>\n",
              "      <td>-0.289543</td>\n",
              "    </tr>\n",
              "    <tr>\n",
              "      <th>5</th>\n",
              "      <td>1.729618</td>\n",
              "      <td>-0.285949</td>\n",
              "    </tr>\n",
              "    <tr>\n",
              "      <th>6</th>\n",
              "      <td>1.734295</td>\n",
              "      <td>-0.283944</td>\n",
              "    </tr>\n",
              "    <tr>\n",
              "      <th>7</th>\n",
              "      <td>1.766343</td>\n",
              "      <td>-0.270202</td>\n",
              "    </tr>\n",
              "    <tr>\n",
              "      <th>8</th>\n",
              "      <td>1.801769</td>\n",
              "      <td>-0.255012</td>\n",
              "    </tr>\n",
              "    <tr>\n",
              "      <th>9</th>\n",
              "      <td>1.839402</td>\n",
              "      <td>-0.238875</td>\n",
              "    </tr>\n",
              "    <tr>\n",
              "      <th>10</th>\n",
              "      <td>1.886878</td>\n",
              "      <td>-0.218518</td>\n",
              "    </tr>\n",
              "    <tr>\n",
              "      <th>11</th>\n",
              "      <td>1.935732</td>\n",
              "      <td>-0.197571</td>\n",
              "    </tr>\n",
              "    <tr>\n",
              "      <th>12</th>\n",
              "      <td>1.948179</td>\n",
              "      <td>-0.192234</td>\n",
              "    </tr>\n",
              "    <tr>\n",
              "      <th>13</th>\n",
              "      <td>2.103797</td>\n",
              "      <td>-0.125507</td>\n",
              "    </tr>\n",
              "    <tr>\n",
              "      <th>14</th>\n",
              "      <td>10.813530</td>\n",
              "      <td>3.609100</td>\n",
              "    </tr>\n",
              "  </tbody>\n",
              "</table>\n",
              "</div>"
            ],
            "text/plain": [
              "     Height M   Z-score\n",
              "0    1.589492 -0.346033\n",
              "1    1.650782 -0.319753\n",
              "2    1.713147 -0.293012\n",
              "3    1.713566 -0.292832\n",
              "4    1.721237 -0.289543\n",
              "5    1.729618 -0.285949\n",
              "6    1.734295 -0.283944\n",
              "7    1.766343 -0.270202\n",
              "8    1.801769 -0.255012\n",
              "9    1.839402 -0.238875\n",
              "10   1.886878 -0.218518\n",
              "11   1.935732 -0.197571\n",
              "12   1.948179 -0.192234\n",
              "13   2.103797 -0.125507\n",
              "14  10.813530  3.609100"
            ]
          },
          "metadata": {
            "tags": []
          },
          "execution_count": 46
        }
      ]
    },
    {
      "cell_type": "code",
      "metadata": {
        "id": "qnQNwrYlN_tk"
      },
      "source": [
        "import matplotlib.pyplot as plt"
      ],
      "execution_count": 47,
      "outputs": []
    },
    {
      "cell_type": "code",
      "metadata": {
        "colab": {
          "base_uri": "https://localhost:8080/"
        },
        "id": "OR85O4BCOFo8",
        "outputId": "8c4f573b-f019-4ce9-fc39-d3787321c1fc"
      },
      "source": [
        "print(df[\"Height M\"].mean())\n",
        "\n",
        "print(df[\"Height M\"].std())"
      ],
      "execution_count": 48,
      "outputs": [
        {
          "output_type": "stream",
          "text": [
            "2.3965177826666673\n",
            "2.33216940956709\n"
          ],
          "name": "stdout"
        }
      ]
    },
    {
      "cell_type": "markdown",
      "metadata": {
        "id": "_whZjl-uPV9m"
      },
      "source": [
        "**Detecting the outlier using Boxplot**"
      ]
    },
    {
      "cell_type": "code",
      "metadata": {
        "colab": {
          "base_uri": "https://localhost:8080/",
          "height": 285
        },
        "id": "Nm5VKAs_O1uG",
        "outputId": "95fd2a66-ae51-41c1-8ef5-f83d7363f470"
      },
      "source": [
        "import seaborn as sns\n",
        "sns.set_theme(style=\"whitegrid\")\n",
        "ax = sns.boxplot(x=df[\"Height M\"])"
      ],
      "execution_count": 49,
      "outputs": [
        {
          "output_type": "display_data",
          "data": {
            "image/png": "[encoded data removed]",
            "text/plain": [
              "<Figure size 432x288 with 1 Axes>"
            ]
          },
          "metadata": {
            "tags": []
          }
        }
      ]
    },
    {
      "cell_type": "code",
      "metadata": {
        "id": "AcEmiQZ3TKEg"
      },
      "source": [
        "Q1 = np.percentile(df[\"Height M\"], 25)\n",
        "\n",
        "Q3 = np.percentile(df[\"Height M\"], 75)\n",
        "\n",
        "IQR = Q3-Q1\n"
      ],
      "execution_count": 50,
      "outputs": []
    },
    {
      "cell_type": "markdown",
      "metadata": {
        "id": "jsZ9wemAQ9ow"
      },
      "source": [
        "**Impact of the outlier**\n",
        "\n",
        "1. Problematic for statistical analysis\n",
        " "
      ]
    },
    {
      "cell_type": "markdown",
      "metadata": {
        "id": "gXsLCRvLTvoU"
      },
      "source": [
        "**Removing Outlier**"
      ]
    },
    {
      "cell_type": "code",
      "metadata": {
        "id": "I1wQvYVpQFnD"
      },
      "source": [
        "df.drop(df.index[df['Height M']> (Q3+1.5*IQR)], inplace = True)"
      ],
      "execution_count": 51,
      "outputs": []
    },
    {
      "cell_type": "code",
      "metadata": {
        "colab": {
          "base_uri": "https://localhost:8080/",
          "height": 483
        },
        "id": "7Q-Qp1ioR_9n",
        "outputId": "a7f2348f-fa9d-4acb-eb66-f668267df4f0"
      },
      "source": [
        "df"
      ],
      "execution_count": 52,
      "outputs": [
        {
          "output_type": "execute_result",
          "data": {
            "text/html": [
              "<div>\n",
              "<style scoped>\n",
              "    .dataframe tbody tr th:only-of-type {\n",
              "        vertical-align: middle;\n",
              "    }\n",
              "\n",
              "    .dataframe tbody tr th {\n",
              "        vertical-align: top;\n",
              "    }\n",
              "\n",
              "    .dataframe thead th {\n",
              "        text-align: right;\n",
              "    }\n",
              "</style>\n",
              "<table border=\"1\" class=\"dataframe\">\n",
              "  <thead>\n",
              "    <tr style=\"text-align: right;\">\n",
              "      <th></th>\n",
              "      <th>Height M</th>\n",
              "      <th>Z-score</th>\n",
              "    </tr>\n",
              "  </thead>\n",
              "  <tbody>\n",
              "    <tr>\n",
              "      <th>0</th>\n",
              "      <td>1.589492</td>\n",
              "      <td>-0.346033</td>\n",
              "    </tr>\n",
              "    <tr>\n",
              "      <th>1</th>\n",
              "      <td>1.650782</td>\n",
              "      <td>-0.319753</td>\n",
              "    </tr>\n",
              "    <tr>\n",
              "      <th>2</th>\n",
              "      <td>1.713147</td>\n",
              "      <td>-0.293012</td>\n",
              "    </tr>\n",
              "    <tr>\n",
              "      <th>3</th>\n",
              "      <td>1.713566</td>\n",
              "      <td>-0.292832</td>\n",
              "    </tr>\n",
              "    <tr>\n",
              "      <th>4</th>\n",
              "      <td>1.721237</td>\n",
              "      <td>-0.289543</td>\n",
              "    </tr>\n",
              "    <tr>\n",
              "      <th>5</th>\n",
              "      <td>1.729618</td>\n",
              "      <td>-0.285949</td>\n",
              "    </tr>\n",
              "    <tr>\n",
              "      <th>6</th>\n",
              "      <td>1.734295</td>\n",
              "      <td>-0.283944</td>\n",
              "    </tr>\n",
              "    <tr>\n",
              "      <th>7</th>\n",
              "      <td>1.766343</td>\n",
              "      <td>-0.270202</td>\n",
              "    </tr>\n",
              "    <tr>\n",
              "      <th>8</th>\n",
              "      <td>1.801769</td>\n",
              "      <td>-0.255012</td>\n",
              "    </tr>\n",
              "    <tr>\n",
              "      <th>9</th>\n",
              "      <td>1.839402</td>\n",
              "      <td>-0.238875</td>\n",
              "    </tr>\n",
              "    <tr>\n",
              "      <th>10</th>\n",
              "      <td>1.886878</td>\n",
              "      <td>-0.218518</td>\n",
              "    </tr>\n",
              "    <tr>\n",
              "      <th>11</th>\n",
              "      <td>1.935732</td>\n",
              "      <td>-0.197571</td>\n",
              "    </tr>\n",
              "    <tr>\n",
              "      <th>12</th>\n",
              "      <td>1.948179</td>\n",
              "      <td>-0.192234</td>\n",
              "    </tr>\n",
              "    <tr>\n",
              "      <th>13</th>\n",
              "      <td>2.103797</td>\n",
              "      <td>-0.125507</td>\n",
              "    </tr>\n",
              "  </tbody>\n",
              "</table>\n",
              "</div>"
            ],
            "text/plain": [
              "    Height M   Z-score\n",
              "0   1.589492 -0.346033\n",
              "1   1.650782 -0.319753\n",
              "2   1.713147 -0.293012\n",
              "3   1.713566 -0.292832\n",
              "4   1.721237 -0.289543\n",
              "5   1.729618 -0.285949\n",
              "6   1.734295 -0.283944\n",
              "7   1.766343 -0.270202\n",
              "8   1.801769 -0.255012\n",
              "9   1.839402 -0.238875\n",
              "10  1.886878 -0.218518\n",
              "11  1.935732 -0.197571\n",
              "12  1.948179 -0.192234\n",
              "13  2.103797 -0.125507"
            ]
          },
          "metadata": {
            "tags": []
          },
          "execution_count": 52
        }
      ]
    },
    {
      "cell_type": "code",
      "metadata": {
        "colab": {
          "base_uri": "https://localhost:8080/"
        },
        "id": "1nIez9G1TnD_",
        "outputId": "c1864ed2-2685-4c6a-fa9e-618ca95d5f30"
      },
      "source": [
        "print(df[\"Height M\"].mean())\n",
        "\n",
        "print(df[\"Height M\"].std())"
      ],
      "execution_count": 53,
      "outputs": [
        {
          "output_type": "stream",
          "text": [
            "1.7953026242857144\n",
            "0.13577928039796566\n"
          ],
          "name": "stdout"
        }
      ]
    },
    {
      "cell_type": "markdown",
      "metadata": {
        "id": "Hb5ATsqeaEP6"
      },
      "source": [
        "A single value changes the mean height by 0.6m (2 feet) and the standard deviation by a whopping 2.16m (7 feet)."
      ]
    },
    {
      "cell_type": "code",
      "metadata": {
        "id": "aVKBkIlETrDY"
      },
      "source": [
        ""
      ],
      "execution_count": 53,
      "outputs": []
    }
  ]
}