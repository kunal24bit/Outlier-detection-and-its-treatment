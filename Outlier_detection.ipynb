{
  "nbformat": 4,
  "nbformat_minor": 0,
  "metadata": {
    "colab": {
      "name": "Outlier_detection.ipynb",
      "provenance": [],
      "authorship_tag": "ABX9TyM8+UmbvH7DNfLkXLxhVjDN",
      "include_colab_link": true
    },
    "kernelspec": {
      "name": "python3",
      "display_name": "Python 3"
    },
    "language_info": {
      "name": "python"
    }
  },
  "cells": [
    {
      "cell_type": "markdown",
      "metadata": {
        "id": "view-in-github",
        "colab_type": "text"
      },
      "source": [
        "<a href=\"https://colab.research.google.com/github/kunal24bit/Outlier-detection-and-its-treatment/blob/main/Outlier_detection.ipynb\" target=\"_parent\"><img src=\"https://colab.research.google.com/assets/colab-badge.svg\" alt=\"Open In Colab\"/></a>"
      ]
    },
    {
      "cell_type": "markdown",
      "metadata": {
        "id": "oq3zIqvv-aIf"
      },
      "source": [
        "**What is an outlier?**\n",
        "\n",
        "An outlier is a datapoint in a data set that distant from all other observations.\n",
        "\n",
        "**How to find outlier in a dataset?**\n",
        "\n",
        "There are so many ways to find the outlier in the given dataset:\n",
        "\n",
        "1. Using Boxplot\n",
        "2. Using Z -Score\n",
        "3. Using IQR(Inter quartile range)\n",
        "4. Using scatter plots\n",
        "\n",
        "**Criteria to detect outlier**\n",
        "\n",
        "1. if using box plot then the data point which falls below the (Q1-1.5*IQR) or the data point which falls above the (Q3+1.5*IQR) are outliers.\n",
        "\n",
        "2. A standard cut-off value for finding outliers are Z-scores of +/-3 or further from zero."
      ]
    },
    {
      "cell_type": "code",
      "metadata": {
        "id": "s93weDcj-vxd"
      },
      "source": [
        "import numpy as np\n",
        "\n",
        "import pandas as pd"
      ],
      "execution_count": 141,
      "outputs": []
    },
    {
      "cell_type": "code",
      "metadata": {
        "id": "x67Gs0ELNt7-"
      },
      "source": [
        "df  = pd.read_csv(\"Outliers1.csv\")"
      ],
      "execution_count": 142,
      "outputs": []
    },
    {
      "cell_type": "code",
      "metadata": {
        "colab": {
          "base_uri": "https://localhost:8080/",
          "height": 514
        },
        "id": "pjktpYELN7ck",
        "outputId": "7c37c24b-afd8-48f9-aa26-81ca1147cb43"
      },
      "source": [
        "df"
      ],
      "execution_count": 143,
      "outputs": [
        {
          "output_type": "execute_result",
          "data": {
            "text/html": [
              "<div>\n",
              "<style scoped>\n",
              "    .dataframe tbody tr th:only-of-type {\n",
              "        vertical-align: middle;\n",
              "    }\n",
              "\n",
              "    .dataframe tbody tr th {\n",
              "        vertical-align: top;\n",
              "    }\n",
              "\n",
              "    .dataframe thead th {\n",
              "        text-align: right;\n",
              "    }\n",
              "</style>\n",
              "<table border=\"1\" class=\"dataframe\">\n",
              "  <thead>\n",
              "    <tr style=\"text-align: right;\">\n",
              "      <th></th>\n",
              "      <th>Height M</th>\n",
              "    </tr>\n",
              "  </thead>\n",
              "  <tbody>\n",
              "    <tr>\n",
              "      <th>0</th>\n",
              "      <td>1.589492</td>\n",
              "    </tr>\n",
              "    <tr>\n",
              "      <th>1</th>\n",
              "      <td>1.650782</td>\n",
              "    </tr>\n",
              "    <tr>\n",
              "      <th>2</th>\n",
              "      <td>1.713147</td>\n",
              "    </tr>\n",
              "    <tr>\n",
              "      <th>3</th>\n",
              "      <td>1.713566</td>\n",
              "    </tr>\n",
              "    <tr>\n",
              "      <th>4</th>\n",
              "      <td>1.721237</td>\n",
              "    </tr>\n",
              "    <tr>\n",
              "      <th>5</th>\n",
              "      <td>1.729618</td>\n",
              "    </tr>\n",
              "    <tr>\n",
              "      <th>6</th>\n",
              "      <td>1.734295</td>\n",
              "    </tr>\n",
              "    <tr>\n",
              "      <th>7</th>\n",
              "      <td>1.766343</td>\n",
              "    </tr>\n",
              "    <tr>\n",
              "      <th>8</th>\n",
              "      <td>1.801769</td>\n",
              "    </tr>\n",
              "    <tr>\n",
              "      <th>9</th>\n",
              "      <td>1.839402</td>\n",
              "    </tr>\n",
              "    <tr>\n",
              "      <th>10</th>\n",
              "      <td>1.886878</td>\n",
              "    </tr>\n",
              "    <tr>\n",
              "      <th>11</th>\n",
              "      <td>1.935732</td>\n",
              "    </tr>\n",
              "    <tr>\n",
              "      <th>12</th>\n",
              "      <td>1.948179</td>\n",
              "    </tr>\n",
              "    <tr>\n",
              "      <th>13</th>\n",
              "      <td>2.103797</td>\n",
              "    </tr>\n",
              "    <tr>\n",
              "      <th>14</th>\n",
              "      <td>10.813530</td>\n",
              "    </tr>\n",
              "  </tbody>\n",
              "</table>\n",
              "</div>"
            ],
            "text/plain": [
              "     Height M\n",
              "0    1.589492\n",
              "1    1.650782\n",
              "2    1.713147\n",
              "3    1.713566\n",
              "4    1.721237\n",
              "5    1.729618\n",
              "6    1.734295\n",
              "7    1.766343\n",
              "8    1.801769\n",
              "9    1.839402\n",
              "10   1.886878\n",
              "11   1.935732\n",
              "12   1.948179\n",
              "13   2.103797\n",
              "14  10.813530"
            ]
          },
          "metadata": {
            "tags": []
          },
          "execution_count": 143
        }
      ]
    },
    {
      "cell_type": "code",
      "metadata": {
        "id": "qnQNwrYlN_tk"
      },
      "source": [
        "import matplotlib.pyplot as plt"
      ],
      "execution_count": 144,
      "outputs": []
    },
    {
      "cell_type": "code",
      "metadata": {
        "colab": {
          "base_uri": "https://localhost:8080/"
        },
        "id": "OR85O4BCOFo8",
        "outputId": "7a22bd6f-cbfe-446c-e883-a4dc78399b13"
      },
      "source": [
        "print(df[\"Height M\"].mean())\n",
        "\n",
        "print(df[\"Height M\"].std())"
      ],
      "execution_count": 145,
      "outputs": [
        {
          "output_type": "stream",
          "text": [
            "2.3965177826666673\n",
            "2.33216940956709\n"
          ],
          "name": "stdout"
        }
      ]
    },
    {
      "cell_type": "markdown",
      "metadata": {
        "id": "_whZjl-uPV9m"
      },
      "source": [
        "**Detecting the outlier using Boxplot**"
      ]
    },
    {
      "cell_type": "code",
      "metadata": {
        "colab": {
          "base_uri": "https://localhost:8080/",
          "height": 285
        },
        "id": "Nm5VKAs_O1uG",
        "outputId": "20390a9e-21f7-4394-a61a-28dcdf07c20a"
      },
      "source": [
        "import seaborn as sns\n",
        "sns.set_theme(style=\"whitegrid\")\n",
        "ax = sns.boxplot(x=df[\"Height M\"])"
      ],
      "execution_count": 146,
      "outputs": [
        {
          "output_type": "display_data",
          "data": {
            "image/png": "[encoded data removed]",
            "text/plain": [
              "<Figure size 432x288 with 1 Axes>"
            ]
          },
          "metadata": {
            "tags": []
          }
        }
      ]
    },
    {
      "cell_type": "code",
      "metadata": {
        "id": "AcEmiQZ3TKEg"
      },
      "source": [
        "Q1 = np.percentile(df[\"Height M\"], 25)\n",
        "\n",
        "Q3 = np.percentile(df[\"Height M\"], 75)\n",
        "\n",
        "IQR = Q3-Q1\n"
      ],
      "execution_count": 147,
      "outputs": []
    },
    {
      "cell_type": "markdown",
      "metadata": {
        "id": "jsZ9wemAQ9ow"
      },
      "source": [
        "**Impact of the outlier**\n",
        "\n",
        "1. Problematic for statistical analysis\n",
        " "
      ]
    },
    {
      "cell_type": "markdown",
      "metadata": {
        "id": "gXsLCRvLTvoU"
      },
      "source": [
        "**Removing Outlier**"
      ]
    },
    {
      "cell_type": "code",
      "metadata": {
        "id": "I1wQvYVpQFnD"
      },
      "source": [
        "df.drop(df.index[df['Height M']> (Q3+1.5*IQR)], inplace = True)"
      ],
      "execution_count": 148,
      "outputs": []
    },
    {
      "cell_type": "code",
      "metadata": {
        "colab": {
          "base_uri": "https://localhost:8080/",
          "height": 483
        },
        "id": "DEnvxpATebYw",
        "outputId": "a0e60aa3-d201-426a-f278-95f1b000cdfd"
      },
      "source": [
        "df"
      ],
      "execution_count": 149,
      "outputs": [
        {
          "output_type": "execute_result",
          "data": {
            "text/html": [
              "<div>\n",
              "<style scoped>\n",
              "    .dataframe tbody tr th:only-of-type {\n",
              "        vertical-align: middle;\n",
              "    }\n",
              "\n",
              "    .dataframe tbody tr th {\n",
              "        vertical-align: top;\n",
              "    }\n",
              "\n",
              "    .dataframe thead th {\n",
              "        text-align: right;\n",
              "    }\n",
              "</style>\n",
              "<table border=\"1\" class=\"dataframe\">\n",
              "  <thead>\n",
              "    <tr style=\"text-align: right;\">\n",
              "      <th></th>\n",
              "      <th>Height M</th>\n",
              "    </tr>\n",
              "  </thead>\n",
              "  <tbody>\n",
              "    <tr>\n",
              "      <th>0</th>\n",
              "      <td>1.589492</td>\n",
              "    </tr>\n",
              "    <tr>\n",
              "      <th>1</th>\n",
              "      <td>1.650782</td>\n",
              "    </tr>\n",
              "    <tr>\n",
              "      <th>2</th>\n",
              "      <td>1.713147</td>\n",
              "    </tr>\n",
              "    <tr>\n",
              "      <th>3</th>\n",
              "      <td>1.713566</td>\n",
              "    </tr>\n",
              "    <tr>\n",
              "      <th>4</th>\n",
              "      <td>1.721237</td>\n",
              "    </tr>\n",
              "    <tr>\n",
              "      <th>5</th>\n",
              "      <td>1.729618</td>\n",
              "    </tr>\n",
              "    <tr>\n",
              "      <th>6</th>\n",
              "      <td>1.734295</td>\n",
              "    </tr>\n",
              "    <tr>\n",
              "      <th>7</th>\n",
              "      <td>1.766343</td>\n",
              "    </tr>\n",
              "    <tr>\n",
              "      <th>8</th>\n",
              "      <td>1.801769</td>\n",
              "    </tr>\n",
              "    <tr>\n",
              "      <th>9</th>\n",
              "      <td>1.839402</td>\n",
              "    </tr>\n",
              "    <tr>\n",
              "      <th>10</th>\n",
              "      <td>1.886878</td>\n",
              "    </tr>\n",
              "    <tr>\n",
              "      <th>11</th>\n",
              "      <td>1.935732</td>\n",
              "    </tr>\n",
              "    <tr>\n",
              "      <th>12</th>\n",
              "      <td>1.948179</td>\n",
              "    </tr>\n",
              "    <tr>\n",
              "      <th>13</th>\n",
              "      <td>2.103797</td>\n",
              "    </tr>\n",
              "  </tbody>\n",
              "</table>\n",
              "</div>"
            ],
            "text/plain": [
              "    Height M\n",
              "0   1.589492\n",
              "1   1.650782\n",
              "2   1.713147\n",
              "3   1.713566\n",
              "4   1.721237\n",
              "5   1.729618\n",
              "6   1.734295\n",
              "7   1.766343\n",
              "8   1.801769\n",
              "9   1.839402\n",
              "10  1.886878\n",
              "11  1.935732\n",
              "12  1.948179\n",
              "13  2.103797"
            ]
          },
          "metadata": {
            "tags": []
          },
          "execution_count": 149
        }
      ]
    },
    {
      "cell_type": "code",
      "metadata": {
        "colab": {
          "base_uri": "https://localhost:8080/"
        },
        "id": "1nIez9G1TnD_",
        "outputId": "e682a234-ce73-4b0d-b2c4-3ff2ac246a57"
      },
      "source": [
        "print(df[\"Height M\"].mean())\n",
        "\n",
        "print(df[\"Height M\"].std())"
      ],
      "execution_count": 150,
      "outputs": [
        {
          "output_type": "stream",
          "text": [
            "1.7953026242857144\n",
            "0.13577928039796566\n"
          ],
          "name": "stdout"
        }
      ]
    },
    {
      "cell_type": "code",
      "metadata": {
        "id": "rIHRW4bJefZg"
      },
      "source": [
        ""
      ],
      "execution_count": 150,
      "outputs": []
    },
    {
      "cell_type": "markdown",
      "metadata": {
        "id": "Hb5ATsqeaEP6"
      },
      "source": [
        "A single value changes the mean height by 0.6m (2 feet) and the standard deviation by a whopping 2.16m (7 feet)."
      ]
    },
    {
      "cell_type": "code",
      "metadata": {
        "id": "vBbSUex-egzM"
      },
      "source": [
        ""
      ],
      "execution_count": 150,
      "outputs": []
    },
    {
      "cell_type": "markdown",
      "metadata": {
        "id": "ZTaLhB41eh8m"
      },
      "source": [
        "**Using Z score**\n",
        "\n",
        "A standard cut-off value for finding outliers are Z-scores of +/-3 or further from zero.\n",
        "\n",
        "To find the Z score use the formula:\n",
        "\n",
        "Z = (x -mean)/std"
      ]
    },
    {
      "cell_type": "code",
      "metadata": {
        "colab": {
          "base_uri": "https://localhost:8080/",
          "height": 514
        },
        "id": "Ij-F8mv3iyiG",
        "outputId": "51b633f2-f0e7-4fb5-abe6-f69d11b24413"
      },
      "source": [
        "df1 = pd.read_csv(\"Outliers1.csv\")\n",
        "df1"
      ],
      "execution_count": 151,
      "outputs": [
        {
          "output_type": "execute_result",
          "data": {
            "text/html": [
              "<div>\n",
              "<style scoped>\n",
              "    .dataframe tbody tr th:only-of-type {\n",
              "        vertical-align: middle;\n",
              "    }\n",
              "\n",
              "    .dataframe tbody tr th {\n",
              "        vertical-align: top;\n",
              "    }\n",
              "\n",
              "    .dataframe thead th {\n",
              "        text-align: right;\n",
              "    }\n",
              "</style>\n",
              "<table border=\"1\" class=\"dataframe\">\n",
              "  <thead>\n",
              "    <tr style=\"text-align: right;\">\n",
              "      <th></th>\n",
              "      <th>Height M</th>\n",
              "    </tr>\n",
              "  </thead>\n",
              "  <tbody>\n",
              "    <tr>\n",
              "      <th>0</th>\n",
              "      <td>1.589492</td>\n",
              "    </tr>\n",
              "    <tr>\n",
              "      <th>1</th>\n",
              "      <td>1.650782</td>\n",
              "    </tr>\n",
              "    <tr>\n",
              "      <th>2</th>\n",
              "      <td>1.713147</td>\n",
              "    </tr>\n",
              "    <tr>\n",
              "      <th>3</th>\n",
              "      <td>1.713566</td>\n",
              "    </tr>\n",
              "    <tr>\n",
              "      <th>4</th>\n",
              "      <td>1.721237</td>\n",
              "    </tr>\n",
              "    <tr>\n",
              "      <th>5</th>\n",
              "      <td>1.729618</td>\n",
              "    </tr>\n",
              "    <tr>\n",
              "      <th>6</th>\n",
              "      <td>1.734295</td>\n",
              "    </tr>\n",
              "    <tr>\n",
              "      <th>7</th>\n",
              "      <td>1.766343</td>\n",
              "    </tr>\n",
              "    <tr>\n",
              "      <th>8</th>\n",
              "      <td>1.801769</td>\n",
              "    </tr>\n",
              "    <tr>\n",
              "      <th>9</th>\n",
              "      <td>1.839402</td>\n",
              "    </tr>\n",
              "    <tr>\n",
              "      <th>10</th>\n",
              "      <td>1.886878</td>\n",
              "    </tr>\n",
              "    <tr>\n",
              "      <th>11</th>\n",
              "      <td>1.935732</td>\n",
              "    </tr>\n",
              "    <tr>\n",
              "      <th>12</th>\n",
              "      <td>1.948179</td>\n",
              "    </tr>\n",
              "    <tr>\n",
              "      <th>13</th>\n",
              "      <td>2.103797</td>\n",
              "    </tr>\n",
              "    <tr>\n",
              "      <th>14</th>\n",
              "      <td>10.813530</td>\n",
              "    </tr>\n",
              "  </tbody>\n",
              "</table>\n",
              "</div>"
            ],
            "text/plain": [
              "     Height M\n",
              "0    1.589492\n",
              "1    1.650782\n",
              "2    1.713147\n",
              "3    1.713566\n",
              "4    1.721237\n",
              "5    1.729618\n",
              "6    1.734295\n",
              "7    1.766343\n",
              "8    1.801769\n",
              "9    1.839402\n",
              "10   1.886878\n",
              "11   1.935732\n",
              "12   1.948179\n",
              "13   2.103797\n",
              "14  10.813530"
            ]
          },
          "metadata": {
            "tags": []
          },
          "execution_count": 151
        }
      ]
    },
    {
      "cell_type": "code",
      "metadata": {
        "id": "M4isadRcekUv"
      },
      "source": [
        "mean =  np.mean(df1[\"Height M\"])\n",
        "std = np.std(df1[\"Height M\"])\n",
        "\n",
        "list = []\n",
        "def z_score(data):\n",
        "  for i in data:\n",
        "    list.append((i-mean)/std)\n",
        "  return list\n",
        "\n"
      ],
      "execution_count": 152,
      "outputs": []
    },
    {
      "cell_type": "code",
      "metadata": {
        "colab": {
          "base_uri": "https://localhost:8080/"
        },
        "id": "AbGaQ0XdfzVz",
        "outputId": "790b453a-6a3d-4884-9a48-2bf6dfe033e3"
      },
      "source": [
        "zscore = z_score(df1[\"Height M\"])\n",
        "threshold = 3;\n",
        "for i in zscore:\n",
        "  if i>threshold:\n",
        "    print(\"outlier for the given dataset is\", i)"
      ],
      "execution_count": 153,
      "outputs": [
        {
          "output_type": "stream",
          "text": [
            "outlier for the given dataset is 3.7357643616616953\n"
          ],
          "name": "stdout"
        }
      ]
    },
    {
      "cell_type": "code",
      "metadata": {
        "id": "9sw_WA-Df4rM"
      },
      "source": [
        "df1[\"zscore\"] = zscore"
      ],
      "execution_count": 154,
      "outputs": []
    },
    {
      "cell_type": "code",
      "metadata": {
        "colab": {
          "base_uri": "https://localhost:8080/",
          "height": 514
        },
        "id": "C0fbPZ3njeuh",
        "outputId": "2c451d9a-c77a-4571-e981-896ecfa4896c"
      },
      "source": [
        "df1"
      ],
      "execution_count": 155,
      "outputs": [
        {
          "output_type": "execute_result",
          "data": {
            "text/html": [
              "<div>\n",
              "<style scoped>\n",
              "    .dataframe tbody tr th:only-of-type {\n",
              "        vertical-align: middle;\n",
              "    }\n",
              "\n",
              "    .dataframe tbody tr th {\n",
              "        vertical-align: top;\n",
              "    }\n",
              "\n",
              "    .dataframe thead th {\n",
              "        text-align: right;\n",
              "    }\n",
              "</style>\n",
              "<table border=\"1\" class=\"dataframe\">\n",
              "  <thead>\n",
              "    <tr style=\"text-align: right;\">\n",
              "      <th></th>\n",
              "      <th>Height M</th>\n",
              "      <th>zscore</th>\n",
              "    </tr>\n",
              "  </thead>\n",
              "  <tbody>\n",
              "    <tr>\n",
              "      <th>0</th>\n",
              "      <td>1.589492</td>\n",
              "      <td>-0.358186</td>\n",
              "    </tr>\n",
              "    <tr>\n",
              "      <th>1</th>\n",
              "      <td>1.650782</td>\n",
              "      <td>-0.330984</td>\n",
              "    </tr>\n",
              "    <tr>\n",
              "      <th>2</th>\n",
              "      <td>1.713147</td>\n",
              "      <td>-0.303304</td>\n",
              "    </tr>\n",
              "    <tr>\n",
              "      <th>3</th>\n",
              "      <td>1.713566</td>\n",
              "      <td>-0.303118</td>\n",
              "    </tr>\n",
              "    <tr>\n",
              "      <th>4</th>\n",
              "      <td>1.721237</td>\n",
              "      <td>-0.299713</td>\n",
              "    </tr>\n",
              "    <tr>\n",
              "      <th>5</th>\n",
              "      <td>1.729618</td>\n",
              "      <td>-0.295994</td>\n",
              "    </tr>\n",
              "    <tr>\n",
              "      <th>6</th>\n",
              "      <td>1.734295</td>\n",
              "      <td>-0.293918</td>\n",
              "    </tr>\n",
              "    <tr>\n",
              "      <th>7</th>\n",
              "      <td>1.766343</td>\n",
              "      <td>-0.279693</td>\n",
              "    </tr>\n",
              "    <tr>\n",
              "      <th>8</th>\n",
              "      <td>1.801769</td>\n",
              "      <td>-0.263970</td>\n",
              "    </tr>\n",
              "    <tr>\n",
              "      <th>9</th>\n",
              "      <td>1.839402</td>\n",
              "      <td>-0.247267</td>\n",
              "    </tr>\n",
              "    <tr>\n",
              "      <th>10</th>\n",
              "      <td>1.886878</td>\n",
              "      <td>-0.226196</td>\n",
              "    </tr>\n",
              "    <tr>\n",
              "      <th>11</th>\n",
              "      <td>1.935732</td>\n",
              "      <td>-0.204513</td>\n",
              "    </tr>\n",
              "    <tr>\n",
              "      <th>12</th>\n",
              "      <td>1.948179</td>\n",
              "      <td>-0.198988</td>\n",
              "    </tr>\n",
              "    <tr>\n",
              "      <th>13</th>\n",
              "      <td>2.103797</td>\n",
              "      <td>-0.129920</td>\n",
              "    </tr>\n",
              "    <tr>\n",
              "      <th>14</th>\n",
              "      <td>10.813530</td>\n",
              "      <td>3.735764</td>\n",
              "    </tr>\n",
              "  </tbody>\n",
              "</table>\n",
              "</div>"
            ],
            "text/plain": [
              "     Height M    zscore\n",
              "0    1.589492 -0.358186\n",
              "1    1.650782 -0.330984\n",
              "2    1.713147 -0.303304\n",
              "3    1.713566 -0.303118\n",
              "4    1.721237 -0.299713\n",
              "5    1.729618 -0.295994\n",
              "6    1.734295 -0.293918\n",
              "7    1.766343 -0.279693\n",
              "8    1.801769 -0.263970\n",
              "9    1.839402 -0.247267\n",
              "10   1.886878 -0.226196\n",
              "11   1.935732 -0.204513\n",
              "12   1.948179 -0.198988\n",
              "13   2.103797 -0.129920\n",
              "14  10.813530  3.735764"
            ]
          },
          "metadata": {
            "tags": []
          },
          "execution_count": 155
        }
      ]
    },
    {
      "cell_type": "code",
      "metadata": {
        "id": "hSrWT-LzjwsM"
      },
      "source": [
        "df1.drop(df1.index[df1[\"zscore\"]> 3], inplace = True)"
      ],
      "execution_count": 156,
      "outputs": []
    },
    {
      "cell_type": "code",
      "metadata": {
        "colab": {
          "base_uri": "https://localhost:8080/",
          "height": 483
        },
        "id": "zV8fmDzGobbx",
        "outputId": "7a8dc5bf-e22e-41b5-a425-38229d4b344a"
      },
      "source": [
        "df1"
      ],
      "execution_count": 157,
      "outputs": [
        {
          "output_type": "execute_result",
          "data": {
            "text/html": [
              "<div>\n",
              "<style scoped>\n",
              "    .dataframe tbody tr th:only-of-type {\n",
              "        vertical-align: middle;\n",
              "    }\n",
              "\n",
              "    .dataframe tbody tr th {\n",
              "        vertical-align: top;\n",
              "    }\n",
              "\n",
              "    .dataframe thead th {\n",
              "        text-align: right;\n",
              "    }\n",
              "</style>\n",
              "<table border=\"1\" class=\"dataframe\">\n",
              "  <thead>\n",
              "    <tr style=\"text-align: right;\">\n",
              "      <th></th>\n",
              "      <th>Height M</th>\n",
              "      <th>zscore</th>\n",
              "    </tr>\n",
              "  </thead>\n",
              "  <tbody>\n",
              "    <tr>\n",
              "      <th>0</th>\n",
              "      <td>1.589492</td>\n",
              "      <td>-0.358186</td>\n",
              "    </tr>\n",
              "    <tr>\n",
              "      <th>1</th>\n",
              "      <td>1.650782</td>\n",
              "      <td>-0.330984</td>\n",
              "    </tr>\n",
              "    <tr>\n",
              "      <th>2</th>\n",
              "      <td>1.713147</td>\n",
              "      <td>-0.303304</td>\n",
              "    </tr>\n",
              "    <tr>\n",
              "      <th>3</th>\n",
              "      <td>1.713566</td>\n",
              "      <td>-0.303118</td>\n",
              "    </tr>\n",
              "    <tr>\n",
              "      <th>4</th>\n",
              "      <td>1.721237</td>\n",
              "      <td>-0.299713</td>\n",
              "    </tr>\n",
              "    <tr>\n",
              "      <th>5</th>\n",
              "      <td>1.729618</td>\n",
              "      <td>-0.295994</td>\n",
              "    </tr>\n",
              "    <tr>\n",
              "      <th>6</th>\n",
              "      <td>1.734295</td>\n",
              "      <td>-0.293918</td>\n",
              "    </tr>\n",
              "    <tr>\n",
              "      <th>7</th>\n",
              "      <td>1.766343</td>\n",
              "      <td>-0.279693</td>\n",
              "    </tr>\n",
              "    <tr>\n",
              "      <th>8</th>\n",
              "      <td>1.801769</td>\n",
              "      <td>-0.263970</td>\n",
              "    </tr>\n",
              "    <tr>\n",
              "      <th>9</th>\n",
              "      <td>1.839402</td>\n",
              "      <td>-0.247267</td>\n",
              "    </tr>\n",
              "    <tr>\n",
              "      <th>10</th>\n",
              "      <td>1.886878</td>\n",
              "      <td>-0.226196</td>\n",
              "    </tr>\n",
              "    <tr>\n",
              "      <th>11</th>\n",
              "      <td>1.935732</td>\n",
              "      <td>-0.204513</td>\n",
              "    </tr>\n",
              "    <tr>\n",
              "      <th>12</th>\n",
              "      <td>1.948179</td>\n",
              "      <td>-0.198988</td>\n",
              "    </tr>\n",
              "    <tr>\n",
              "      <th>13</th>\n",
              "      <td>2.103797</td>\n",
              "      <td>-0.129920</td>\n",
              "    </tr>\n",
              "  </tbody>\n",
              "</table>\n",
              "</div>"
            ],
            "text/plain": [
              "    Height M    zscore\n",
              "0   1.589492 -0.358186\n",
              "1   1.650782 -0.330984\n",
              "2   1.713147 -0.303304\n",
              "3   1.713566 -0.303118\n",
              "4   1.721237 -0.299713\n",
              "5   1.729618 -0.295994\n",
              "6   1.734295 -0.293918\n",
              "7   1.766343 -0.279693\n",
              "8   1.801769 -0.263970\n",
              "9   1.839402 -0.247267\n",
              "10  1.886878 -0.226196\n",
              "11  1.935732 -0.204513\n",
              "12  1.948179 -0.198988\n",
              "13  2.103797 -0.129920"
            ]
          },
          "metadata": {
            "tags": []
          },
          "execution_count": 157
        }
      ]
    },
    {
      "cell_type": "code",
      "metadata": {
        "id": "U4pnIngIocdc"
      },
      "source": [
        ""
      ],
      "execution_count": 158,
      "outputs": []
    },
    {
      "cell_type": "code",
      "metadata": {
        "id": "jE6DBkemomYF"
      },
      "source": [
        ""
      ],
      "execution_count": 158,
      "outputs": []
    }
  ]
}